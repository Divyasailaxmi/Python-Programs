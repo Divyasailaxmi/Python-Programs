{
 "cells": [
  {
   "cell_type": "code",
   "execution_count": null,
   "id": "64e9134d",
   "metadata": {},
   "outputs": [],
   "source": [
    "import json \n",
    "import cv2\n",
    "import numpy as np\n",
    "import base64\n",
    "with open('cam.json','r') as f:\n",
    "  d = json.load(f)\n",
    "for i in d:\n",
    "  print(\"value:\",i[0])\n",
    "cap = cv2.VideoCapture(i[0])\n",
    "while True:\n",
    "  ret,frame = cap.read()\n",
    "cv2.imshow(frame) "
   ]
  }
 ],
 "metadata": {
  "kernelspec": {
   "display_name": "Python 3",
   "language": "python",
   "name": "python3"
  }
 },
 "nbformat": 4,
 "nbformat_minor": 5
}
